{
 "cells": [
  {
   "cell_type": "code",
   "execution_count": 1,
   "id": "04b72273-9fa3-4560-88ed-86af64944cf5",
   "metadata": {},
   "outputs": [
    {
     "data": {
      "text/plain": [
       "12"
      ]
     },
     "execution_count": 1,
     "metadata": {},
     "output_type": "execute_result"
    }
   ],
   "source": [
    "int (12)"
   ]
  },
  {
   "cell_type": "code",
   "execution_count": 2,
   "id": "f3a31de5-0a5f-4faf-b6f9-a37f10f828ed",
   "metadata": {},
   "outputs": [
    {
     "data": {
      "text/plain": [
       "123"
      ]
     },
     "execution_count": 2,
     "metadata": {},
     "output_type": "execute_result"
    }
   ],
   "source": [
    "int('123')"
   ]
  },
  {
   "cell_type": "code",
   "execution_count": 3,
   "id": "2214f2c6-20f9-486a-a08a-1d3b618a622d",
   "metadata": {},
   "outputs": [
    {
     "ename": "ValueError",
     "evalue": "invalid literal for int() with base 10: 'spoo'",
     "output_type": "error",
     "traceback": [
      "\u001b[0;31m---------------------------------------------------------------------------\u001b[0m",
      "\u001b[0;31mValueError\u001b[0m                                Traceback (most recent call last)",
      "Cell \u001b[0;32mIn[3], line 1\u001b[0m\n\u001b[0;32m----> 1\u001b[0m \u001b[38;5;28;43mint\u001b[39;49m\u001b[43m(\u001b[49m\u001b[38;5;124;43m'\u001b[39;49m\u001b[38;5;124;43mspoo\u001b[39;49m\u001b[38;5;124;43m'\u001b[39;49m\u001b[43m)\u001b[49m\n",
      "\u001b[0;31mValueError\u001b[0m: invalid literal for int() with base 10: 'spoo'"
     ]
    }
   ],
   "source": [
    "int('spoo')"
   ]
  },
  {
   "cell_type": "code",
   "execution_count": 5,
   "id": "b923cbdf-9bed-4229-ad10-06e7b5290028",
   "metadata": {},
   "outputs": [
    {
     "data": {
      "text/plain": [
       "1"
      ]
     },
     "execution_count": 5,
     "metadata": {},
     "output_type": "execute_result"
    }
   ],
   "source": [
    "int(True)"
   ]
  },
  {
   "cell_type": "code",
   "execution_count": 6,
   "id": "7d806b7b-5391-4154-930f-19737b8931af",
   "metadata": {},
   "outputs": [
    {
     "data": {
      "text/plain": [
       "12.0"
      ]
     },
     "execution_count": 6,
     "metadata": {},
     "output_type": "execute_result"
    }
   ],
   "source": [
    "float(12)"
   ]
  },
  {
   "cell_type": "code",
   "execution_count": 7,
   "id": "eeac0029-ba99-40ae-a1b2-3b0ed80481a9",
   "metadata": {},
   "outputs": [
    {
     "data": {
      "text/plain": [
       "123.0"
      ]
     },
     "execution_count": 7,
     "metadata": {},
     "output_type": "execute_result"
    }
   ],
   "source": [
    "float(123)"
   ]
  },
  {
   "cell_type": "code",
   "execution_count": 8,
   "id": "cfec15fc-0f2f-4772-a6c2-519d17558431",
   "metadata": {},
   "outputs": [
    {
     "ename": "TypeError",
     "evalue": "float() argument must be a string or a real number, not 'complex'",
     "output_type": "error",
     "traceback": [
      "\u001b[0;31m---------------------------------------------------------------------------\u001b[0m",
      "\u001b[0;31mTypeError\u001b[0m                                 Traceback (most recent call last)",
      "Cell \u001b[0;32mIn[8], line 1\u001b[0m\n\u001b[0;32m----> 1\u001b[0m \u001b[38;5;28;43mfloat\u001b[39;49m\u001b[43m(\u001b[49m\u001b[38;5;241;43m1\u001b[39;49m\u001b[38;5;241;43m+\u001b[39;49m\u001b[38;5;241;43m3\u001b[39;49m\u001b[43mj\u001b[49m\u001b[43m)\u001b[49m\n",
      "\u001b[0;31mTypeError\u001b[0m: float() argument must be a string or a real number, not 'complex'"
     ]
    }
   ],
   "source": [
    "float(1+3j)"
   ]
  },
  {
   "cell_type": "code",
   "execution_count": 9,
   "id": "c11a990e-cbd6-437e-9c46-70d7a894e2d0",
   "metadata": {},
   "outputs": [
    {
     "data": {
      "text/plain": [
       "False"
      ]
     },
     "execution_count": 9,
     "metadata": {},
     "output_type": "execute_result"
    }
   ],
   "source": [
    "bool('')"
   ]
  },
  {
   "cell_type": "code",
   "execution_count": 10,
   "id": "40af8f7c-53cb-4b26-813c-a5b50920443d",
   "metadata": {},
   "outputs": [
    {
     "data": {
      "text/plain": [
       "True"
      ]
     },
     "execution_count": 10,
     "metadata": {},
     "output_type": "execute_result"
    }
   ],
   "source": [
    "bool(' ')"
   ]
  },
  {
   "cell_type": "code",
   "execution_count": 11,
   "id": "db0675aa-3328-45b7-9f12-de1a48ed9246",
   "metadata": {},
   "outputs": [
    {
     "data": {
      "text/plain": [
       "True"
      ]
     },
     "execution_count": 11,
     "metadata": {},
     "output_type": "execute_result"
    }
   ],
   "source": [
    "bool(1)"
   ]
  },
  {
   "cell_type": "code",
   "execution_count": 12,
   "id": "9bd8576b-966c-4fde-8aa9-e6472d2adfde",
   "metadata": {},
   "outputs": [
    {
     "data": {
      "text/plain": [
       "True"
      ]
     },
     "execution_count": 12,
     "metadata": {},
     "output_type": "execute_result"
    }
   ],
   "source": [
    "bool(-3)"
   ]
  },
  {
   "cell_type": "code",
   "execution_count": 13,
   "id": "9ec53cc3-aca2-4f89-8e44-1c3822c1cc4d",
   "metadata": {},
   "outputs": [
    {
     "data": {
      "text/plain": [
       "False"
      ]
     },
     "execution_count": 13,
     "metadata": {},
     "output_type": "execute_result"
    }
   ],
   "source": [
    "bool(0)"
   ]
  },
  {
   "cell_type": "code",
   "execution_count": 14,
   "id": "e06ffd17-dd5e-4064-9f45-3d302f6919d1",
   "metadata": {},
   "outputs": [
    {
     "data": {
      "text/plain": [
       "True"
      ]
     },
     "execution_count": 14,
     "metadata": {},
     "output_type": "execute_result"
    }
   ],
   "source": [
    "bool(1+2j)"
   ]
  },
  {
   "cell_type": "code",
   "execution_count": 15,
   "id": "1d65ac41-713e-4e77-9bfc-fb73cfed8249",
   "metadata": {},
   "outputs": [
    {
     "data": {
      "text/plain": [
       "'1'"
      ]
     },
     "execution_count": 15,
     "metadata": {},
     "output_type": "execute_result"
    }
   ],
   "source": [
    "str(1)"
   ]
  },
  {
   "cell_type": "code",
   "execution_count": 16,
   "id": "6c9337ef-f650-4fdc-b144-0f73f6dbf26f",
   "metadata": {},
   "outputs": [
    {
     "data": {
      "text/plain": [
       "'True'"
      ]
     },
     "execution_count": 16,
     "metadata": {},
     "output_type": "execute_result"
    }
   ],
   "source": [
    "str(True)"
   ]
  },
  {
   "cell_type": "code",
   "execution_count": 17,
   "id": "8cb9d704-0ead-4072-ad9b-2a0f43a60547",
   "metadata": {},
   "outputs": [
    {
     "data": {
      "text/plain": [
       "(12+0j)"
      ]
     },
     "execution_count": 17,
     "metadata": {},
     "output_type": "execute_result"
    }
   ],
   "source": [
    "complex(12)"
   ]
  },
  {
   "cell_type": "code",
   "execution_count": 18,
   "id": "d28d4727-c677-47cf-a11e-797700d41d63",
   "metadata": {},
   "outputs": [
    {
     "ename": "NameError",
     "evalue": "name 'pankaj' is not defined",
     "output_type": "error",
     "traceback": [
      "\u001b[0;31m---------------------------------------------------------------------------\u001b[0m",
      "\u001b[0;31mNameError\u001b[0m                                 Traceback (most recent call last)",
      "Cell \u001b[0;32mIn[18], line 1\u001b[0m\n\u001b[0;32m----> 1\u001b[0m \u001b[38;5;28mcomplex\u001b[39m(\u001b[43mpankaj\u001b[49m)\n",
      "\u001b[0;31mNameError\u001b[0m: name 'pankaj' is not defined"
     ]
    }
   ],
   "source": [
    "complex(pankaj)"
   ]
  },
  {
   "cell_type": "code",
   "execution_count": 19,
   "id": "dfa4ae2d-6f2f-4379-a14c-a5e39ac7e6bd",
   "metadata": {},
   "outputs": [
    {
     "data": {
      "text/plain": [
       "(1+0j)"
      ]
     },
     "execution_count": 19,
     "metadata": {},
     "output_type": "execute_result"
    }
   ],
   "source": [
    "complex(True)"
   ]
  },
  {
   "cell_type": "code",
   "execution_count": 20,
   "id": "e5b9fd31-31ea-4bd1-a412-b0e01e4b479b",
   "metadata": {},
   "outputs": [],
   "source": [
    "#slicing"
   ]
  },
  {
   "cell_type": "code",
   "execution_count": 21,
   "id": "5bfbd324-7e08-416c-b0fa-b0723cf01492",
   "metadata": {},
   "outputs": [],
   "source": [
    "a = 10"
   ]
  },
  {
   "cell_type": "code",
   "execution_count": 23,
   "id": "bf9114a2-465a-4762-9515-958d6a7fa8f0",
   "metadata": {},
   "outputs": [
    {
     "name": "stdout",
     "output_type": "stream",
     "text": [
      "140701185212944\n"
     ]
    }
   ],
   "source": [
    "print(id(a))"
   ]
  },
  {
   "cell_type": "code",
   "execution_count": 24,
   "id": "6a5f327a-3719-465e-9d9d-befa83c3b5cb",
   "metadata": {},
   "outputs": [],
   "source": [
    "a = 200"
   ]
  },
  {
   "cell_type": "code",
   "execution_count": 25,
   "id": "51ed0fa3-6f2a-4e24-8d15-7cf1117fe3bf",
   "metadata": {},
   "outputs": [
    {
     "name": "stdout",
     "output_type": "stream",
     "text": [
      "140701185219024\n"
     ]
    }
   ],
   "source": [
    "print(id(a))"
   ]
  },
  {
   "cell_type": "code",
   "execution_count": 26,
   "id": "b9fd06d7-36f9-46a2-b90f-6239ceccc242",
   "metadata": {},
   "outputs": [
    {
     "name": "stdout",
     "output_type": "stream",
     "text": [
      "0\n",
      "1\n",
      "2\n",
      "3\n",
      "4\n"
     ]
    }
   ],
   "source": [
    "for element in range(5):print(element)"
   ]
  },
  {
   "cell_type": "code",
   "execution_count": 28,
   "id": "2e3feb01-5621-4316-b99b-bd0432461014",
   "metadata": {},
   "outputs": [
    {
     "name": "stdout",
     "output_type": "stream",
     "text": [
      "1\n",
      "2\n",
      "3\n",
      "4\n",
      "5\n",
      "6\n",
      "7\n",
      "8\n",
      "9\n"
     ]
    }
   ],
   "source": [
    "for element in range(1,10): print(element)"
   ]
  },
  {
   "cell_type": "code",
   "execution_count": 29,
   "id": "fe455cce-c325-4929-bd96-65c76fbe4689",
   "metadata": {},
   "outputs": [],
   "source": [
    "l = [1,2,3,4, 'spoo']"
   ]
  },
  {
   "cell_type": "code",
   "execution_count": 31,
   "id": "bdf174c9-c90a-4446-868e-1fb951dfd8ad",
   "metadata": {},
   "outputs": [
    {
     "data": {
      "text/plain": [
       "1"
      ]
     },
     "execution_count": 31,
     "metadata": {},
     "output_type": "execute_result"
    }
   ],
   "source": [
    "l[0]"
   ]
  },
  {
   "cell_type": "raw",
   "id": "3f2d38ef-25e4-43be-bb8b-ae9335db3385",
   "metadata": {},
   "source": [
    "print(l[-1])"
   ]
  },
  {
   "cell_type": "code",
   "execution_count": 32,
   "id": "03076ff8-aa74-4ee4-85c5-93465e085207",
   "metadata": {},
   "outputs": [
    {
     "name": "stdout",
     "output_type": "stream",
     "text": [
      "spoo\n"
     ]
    }
   ],
   "source": [
    "print(l[-1]) #negative index"
   ]
  },
  {
   "cell_type": "code",
   "execution_count": 33,
   "id": "5132d2da-0f55-4283-b8ba-628c021231c4",
   "metadata": {},
   "outputs": [
    {
     "data": {
      "text/plain": [
       "1"
      ]
     },
     "execution_count": 33,
     "metadata": {},
     "output_type": "execute_result"
    }
   ],
   "source": [
    "1"
   ]
  },
  {
   "cell_type": "code",
   "execution_count": 34,
   "id": "38723306-2a6a-46cb-b115-2abe657329d3",
   "metadata": {},
   "outputs": [
    {
     "data": {
      "text/plain": [
       "[1, 2, 3, 4, 'spoo']"
      ]
     },
     "execution_count": 34,
     "metadata": {},
     "output_type": "execute_result"
    }
   ],
   "source": [
    "l"
   ]
  },
  {
   "cell_type": "code",
   "execution_count": 35,
   "id": "75bc957c-81c4-4082-9e7b-f65defcece60",
   "metadata": {},
   "outputs": [
    {
     "data": {
      "text/plain": [
       "[2, 3, 4]"
      ]
     },
     "execution_count": 35,
     "metadata": {},
     "output_type": "execute_result"
    }
   ],
   "source": [
    "l[1:4] #slicing ==> index 1 till 4-1 ==> index 1, 2, 3"
   ]
  },
  {
   "cell_type": "code",
   "execution_count": 36,
   "id": "a5e4e349-ae2d-46fb-a099-584b3bf875ae",
   "metadata": {},
   "outputs": [],
   "source": [
    "l[0] = 1001 # list is mutable"
   ]
  },
  {
   "cell_type": "code",
   "execution_count": 37,
   "id": "944d86a6-b79b-4d02-b5ce-eab8e31ac77e",
   "metadata": {},
   "outputs": [
    {
     "data": {
      "text/plain": [
       "[1001, 2, 3, 4, 'spoo']"
      ]
     },
     "execution_count": 37,
     "metadata": {},
     "output_type": "execute_result"
    }
   ],
   "source": [
    "l"
   ]
  },
  {
   "cell_type": "code",
   "execution_count": 38,
   "id": "79a2643a-ee88-4bd8-b4e3-89bd0afbd473",
   "metadata": {},
   "outputs": [],
   "source": [
    "l.append(2222) #add element 2222 at the end of the list"
   ]
  },
  {
   "cell_type": "code",
   "execution_count": 39,
   "id": "20681693-a0b0-472e-a689-64cd46222a09",
   "metadata": {},
   "outputs": [
    {
     "data": {
      "text/plain": [
       "[1001, 2, 3, 4, 'spoo', 2222]"
      ]
     },
     "execution_count": 39,
     "metadata": {},
     "output_type": "execute_result"
    }
   ],
   "source": [
    "l"
   ]
  },
  {
   "cell_type": "code",
   "execution_count": 40,
   "id": "2f62710c-1c02-4f1c-b5c5-3d9dd4b348b5",
   "metadata": {},
   "outputs": [],
   "source": [
    "l.append(2222)"
   ]
  },
  {
   "cell_type": "code",
   "execution_count": 41,
   "id": "96910fed-f89d-4dab-9817-20cfc14fd3a1",
   "metadata": {},
   "outputs": [
    {
     "data": {
      "text/plain": [
       "[1001, 2, 3, 4, 'spoo', 2222, 2222]"
      ]
     },
     "execution_count": 41,
     "metadata": {},
     "output_type": "execute_result"
    }
   ],
   "source": [
    "l"
   ]
  },
  {
   "cell_type": "code",
   "execution_count": 42,
   "id": "d5ba89ea-7edc-46ca-85a0-1ebb3fe84d30",
   "metadata": {},
   "outputs": [],
   "source": [
    "l.remove(2) #it will remove 2 from the list"
   ]
  },
  {
   "cell_type": "code",
   "execution_count": 43,
   "id": "2d33cc3d-8878-4835-b0a8-59781acaef30",
   "metadata": {},
   "outputs": [
    {
     "data": {
      "text/plain": [
       "[1001, 3, 4, 'spoo', 2222, 2222]"
      ]
     },
     "execution_count": 43,
     "metadata": {},
     "output_type": "execute_result"
    }
   ],
   "source": [
    "l"
   ]
  },
  {
   "cell_type": "code",
   "execution_count": 44,
   "id": "59626efd-2e04-4289-a535-48b8bb3b2b84",
   "metadata": {},
   "outputs": [],
   "source": [
    "l.remove(2222) #it will only remove the first acc of 2222"
   ]
  },
  {
   "cell_type": "code",
   "execution_count": 45,
   "id": "31d8add8-c7f9-4708-9811-38fd4a070a56",
   "metadata": {},
   "outputs": [
    {
     "data": {
      "text/plain": [
       "[1001, 3, 4, 'spoo', 2222]"
      ]
     },
     "execution_count": 45,
     "metadata": {},
     "output_type": "execute_result"
    }
   ],
   "source": [
    "l"
   ]
  },
  {
   "cell_type": "code",
   "execution_count": 47,
   "id": "d63d9f37-c7b0-4cd3-a07e-fe6d186857f8",
   "metadata": {},
   "outputs": [
    {
     "ename": "ValueError",
     "evalue": "list.remove(x): x not in list",
     "output_type": "error",
     "traceback": [
      "\u001b[0;31m---------------------------------------------------------------------------\u001b[0m",
      "\u001b[0;31mValueError\u001b[0m                                Traceback (most recent call last)",
      "Cell \u001b[0;32mIn[47], line 1\u001b[0m\n\u001b[0;32m----> 1\u001b[0m \u001b[43ml\u001b[49m\u001b[38;5;241;43m.\u001b[39;49m\u001b[43mremove\u001b[49m\u001b[43m(\u001b[49m\u001b[38;5;124;43m'\u001b[39;49m\u001b[38;5;124;43mneeraj\u001b[39;49m\u001b[38;5;124;43m'\u001b[39;49m\u001b[43m)\u001b[49m \u001b[38;5;66;03m#ud ke laat marega\u001b[39;00m\n",
      "\u001b[0;31mValueError\u001b[0m: list.remove(x): x not in list"
     ]
    }
   ],
   "source": [
    "l.remove('neeraj') #ud ke laat marega"
   ]
  },
  {
   "cell_type": "code",
   "execution_count": 48,
   "id": "352ff4df-459e-4698-b3fa-f393e02921c0",
   "metadata": {},
   "outputs": [
    {
     "data": {
      "text/plain": [
       "2222"
      ]
     },
     "execution_count": 48,
     "metadata": {},
     "output_type": "execute_result"
    }
   ],
   "source": [
    "l.pop() #last element ko delete karega"
   ]
  },
  {
   "cell_type": "code",
   "execution_count": 49,
   "id": "4d8530b8-698d-436b-a600-0f39eeb0423b",
   "metadata": {},
   "outputs": [
    {
     "data": {
      "text/plain": [
       "[1001, 3, 4, 'spoo']"
      ]
     },
     "execution_count": 49,
     "metadata": {},
     "output_type": "execute_result"
    }
   ],
   "source": [
    "l"
   ]
  },
  {
   "cell_type": "code",
   "execution_count": 50,
   "id": "51dfb425-557b-4408-ba97-c0a34f7e38eb",
   "metadata": {},
   "outputs": [],
   "source": [
    "a = l.pop()"
   ]
  },
  {
   "cell_type": "code",
   "execution_count": 51,
   "id": "316c7505-97ec-4f1e-bd72-717268ce1732",
   "metadata": {},
   "outputs": [
    {
     "name": "stdout",
     "output_type": "stream",
     "text": [
      "spoo\n"
     ]
    }
   ],
   "source": [
    "print(a)"
   ]
  },
  {
   "cell_type": "code",
   "execution_count": 52,
   "id": "ab54d75b-74c8-40d5-aecb-27ad33a135fc",
   "metadata": {},
   "outputs": [],
   "source": [
    "t=()"
   ]
  },
  {
   "cell_type": "code",
   "execution_count": 53,
   "id": "38d17468-4912-4b7c-9eb5-112819ab2370",
   "metadata": {},
   "outputs": [
    {
     "name": "stdout",
     "output_type": "stream",
     "text": [
      "<class 'tuple'>\n"
     ]
    }
   ],
   "source": [
    "print(type(t))"
   ]
  },
  {
   "cell_type": "code",
   "execution_count": 54,
   "id": "71f44ce6-d484-459e-a3a9-4a3b9ce1148e",
   "metadata": {},
   "outputs": [],
   "source": [
    "t=(10,20,30,'pankaj')"
   ]
  },
  {
   "cell_type": "code",
   "execution_count": 55,
   "id": "4acaae09-25d8-4446-882b-9b9840c26d30",
   "metadata": {},
   "outputs": [
    {
     "data": {
      "text/plain": [
       "10"
      ]
     },
     "execution_count": 55,
     "metadata": {},
     "output_type": "execute_result"
    }
   ],
   "source": [
    "t[0]"
   ]
  },
  {
   "cell_type": "code",
   "execution_count": 56,
   "id": "87d991a2-9e5f-4931-a334-c2a723231184",
   "metadata": {},
   "outputs": [
    {
     "ename": "TypeError",
     "evalue": "'tuple' object does not support item assignment",
     "output_type": "error",
     "traceback": [
      "\u001b[0;31m---------------------------------------------------------------------------\u001b[0m",
      "\u001b[0;31mTypeError\u001b[0m                                 Traceback (most recent call last)",
      "Cell \u001b[0;32mIn[56], line 1\u001b[0m\n\u001b[0;32m----> 1\u001b[0m \u001b[43mt\u001b[49m\u001b[43m[\u001b[49m\u001b[38;5;241;43m0\u001b[39;49m\u001b[43m]\u001b[49m\u001b[38;5;241m=\u001b[39m\u001b[38;5;241m1020\u001b[39m\n",
      "\u001b[0;31mTypeError\u001b[0m: 'tuple' object does not support item assignment"
     ]
    }
   ],
   "source": [
    "t[0]=1020"
   ]
  },
  {
   "cell_type": "code",
   "execution_count": 58,
   "id": "9be4f27b-c68a-4898-8fad-f5dac031a4dd",
   "metadata": {},
   "outputs": [],
   "source": [
    "a = 20\n",
    "b = 6"
   ]
  },
  {
   "cell_type": "code",
   "execution_count": 59,
   "id": "e3924b34-86d7-43f2-8001-1bdbdecfad58",
   "metadata": {},
   "outputs": [
    {
     "data": {
      "text/plain": [
       "26"
      ]
     },
     "execution_count": 59,
     "metadata": {},
     "output_type": "execute_result"
    }
   ],
   "source": [
    "a+b"
   ]
  },
  {
   "cell_type": "code",
   "execution_count": 60,
   "id": "c160b5f6-db90-43b6-9c3d-df4d7e421a0e",
   "metadata": {},
   "outputs": [
    {
     "data": {
      "text/plain": [
       "14"
      ]
     },
     "execution_count": 60,
     "metadata": {},
     "output_type": "execute_result"
    }
   ],
   "source": [
    "a-b"
   ]
  },
  {
   "cell_type": "code",
   "execution_count": 61,
   "id": "f1397f1e-5c1e-4c26-ba9d-95bcd38170f0",
   "metadata": {},
   "outputs": [
    {
     "data": {
      "text/plain": [
       "120"
      ]
     },
     "execution_count": 61,
     "metadata": {},
     "output_type": "execute_result"
    }
   ],
   "source": [
    "a*b"
   ]
  },
  {
   "cell_type": "code",
   "execution_count": 62,
   "id": "7f9e58a1-566e-4661-a090-6d9bae35328b",
   "metadata": {},
   "outputs": [
    {
     "data": {
      "text/plain": [
       "2"
      ]
     },
     "execution_count": 62,
     "metadata": {},
     "output_type": "execute_result"
    }
   ],
   "source": [
    "a%b #20%6 ==>20 = 3*6+2"
   ]
  },
  {
   "cell_type": "code",
   "execution_count": 63,
   "id": "35b4bc1a-ee9d-4b55-b4a4-9b7cdba60430",
   "metadata": {},
   "outputs": [
    {
     "data": {
      "text/plain": [
       "3.3333333333333335"
      ]
     },
     "execution_count": 63,
     "metadata": {},
     "output_type": "execute_result"
    }
   ],
   "source": [
    "a/b #floating division"
   ]
  },
  {
   "cell_type": "code",
   "execution_count": 64,
   "id": "d78e4011-0cea-48d1-b800-c2dbf879ab18",
   "metadata": {},
   "outputs": [
    {
     "data": {
      "text/plain": [
       "3"
      ]
     },
     "execution_count": 64,
     "metadata": {},
     "output_type": "execute_result"
    }
   ],
   "source": [
    "a // b #floor division"
   ]
  },
  {
   "cell_type": "code",
   "execution_count": 65,
   "id": "848ba2b3-ab83-4b09-ad8c-f90663c288b3",
   "metadata": {},
   "outputs": [
    {
     "data": {
      "text/plain": [
       "64000000"
      ]
     },
     "execution_count": 65,
     "metadata": {},
     "output_type": "execute_result"
    }
   ],
   "source": [
    "a**b #a power b"
   ]
  },
  {
   "cell_type": "code",
   "execution_count": 66,
   "id": "031eb197-fc2f-4f42-87c6-ff9d2c52ac87",
   "metadata": {},
   "outputs": [
    {
     "data": {
      "text/plain": [
       "8"
      ]
     },
     "execution_count": 66,
     "metadata": {},
     "output_type": "execute_result"
    }
   ],
   "source": [
    "2**3"
   ]
  },
  {
   "cell_type": "code",
   "execution_count": 67,
   "id": "0d299413-161c-4a14-95fd-2c2c9faffaaf",
   "metadata": {},
   "outputs": [
    {
     "data": {
      "text/plain": [
       "64"
      ]
     },
     "execution_count": 67,
     "metadata": {},
     "output_type": "execute_result"
    }
   ],
   "source": [
    "8**2"
   ]
  },
  {
   "cell_type": "code",
   "execution_count": 68,
   "id": "b78f00b2-124b-45aa-a63b-396f58e38910",
   "metadata": {},
   "outputs": [
    {
     "data": {
      "text/plain": [
       "2.0"
      ]
     },
     "execution_count": 68,
     "metadata": {},
     "output_type": "execute_result"
    }
   ],
   "source": [
    "8**(1/3)"
   ]
  },
  {
   "cell_type": "code",
   "execution_count": 70,
   "id": "ec4f646b-8e67-449c-a2c4-1de2eed931cc",
   "metadata": {},
   "outputs": [
    {
     "ename": "TypeError",
     "evalue": "can only concatenate str (not \"int\") to str",
     "output_type": "error",
     "traceback": [
      "\u001b[0;31m---------------------------------------------------------------------------\u001b[0m",
      "\u001b[0;31mTypeError\u001b[0m                                 Traceback (most recent call last)",
      "Cell \u001b[0;32mIn[70], line 1\u001b[0m\n\u001b[0;32m----> 1\u001b[0m \u001b[38;5;124;43m'\u001b[39;49m\u001b[38;5;124;43mpankaj\u001b[39;49m\u001b[38;5;124;43m'\u001b[39;49m\u001b[43m \u001b[49m\u001b[38;5;241;43m+\u001b[39;49m\u001b[43m \u001b[49m\u001b[38;5;241;43m2\u001b[39;49m\n",
      "\u001b[0;31mTypeError\u001b[0m: can only concatenate str (not \"int\") to str"
     ]
    }
   ],
   "source": [
    "'pankaj' + 2"
   ]
  },
  {
   "cell_type": "code",
   "execution_count": 71,
   "id": "a091ed2d-081a-4cd7-a14f-74c155523519",
   "metadata": {},
   "outputs": [
    {
     "data": {
      "text/plain": [
       "'spoorthi'"
      ]
     },
     "execution_count": 71,
     "metadata": {},
     "output_type": "execute_result"
    }
   ],
   "source": [
    "'spoo' + 'rthi'"
   ]
  },
  {
   "cell_type": "code",
   "execution_count": 74,
   "id": "762bc428-c242-4852-b775-a5fcc4360e86",
   "metadata": {},
   "outputs": [
    {
     "data": {
      "text/plain": [
       "'spoospoo'"
      ]
     },
     "execution_count": 74,
     "metadata": {},
     "output_type": "execute_result"
    }
   ],
   "source": [
    "'spoo' * 2"
   ]
  },
  {
   "cell_type": "code",
   "execution_count": 75,
   "id": "570dd9c8-dccb-4541-8ce0-bf093c23e4b6",
   "metadata": {},
   "outputs": [
    {
     "ename": "TypeError",
     "evalue": "can't multiply sequence by non-int of type 'float'",
     "output_type": "error",
     "traceback": [
      "\u001b[0;31m---------------------------------------------------------------------------\u001b[0m",
      "\u001b[0;31mTypeError\u001b[0m                                 Traceback (most recent call last)",
      "Cell \u001b[0;32mIn[75], line 1\u001b[0m\n\u001b[0;32m----> 1\u001b[0m \u001b[38;5;124;43m'\u001b[39;49m\u001b[38;5;124;43mspoo\u001b[39;49m\u001b[38;5;124;43m'\u001b[39;49m\u001b[43m \u001b[49m\u001b[38;5;241;43m*\u001b[39;49m\u001b[43m \u001b[49m\u001b[38;5;241;43m0.5\u001b[39;49m\n",
      "\u001b[0;31mTypeError\u001b[0m: can't multiply sequence by non-int of type 'float'"
     ]
    }
   ],
   "source": [
    "'spoo' * 0.5"
   ]
  },
  {
   "cell_type": "code",
   "execution_count": 76,
   "id": "9349b8a0-77e9-4d1e-8793-0f8b35baacea",
   "metadata": {},
   "outputs": [
    {
     "data": {
      "text/plain": [
       "True"
      ]
     },
     "execution_count": 76,
     "metadata": {},
     "output_type": "execute_result"
    }
   ],
   "source": [
    "10 < 20"
   ]
  },
  {
   "cell_type": "code",
   "execution_count": 77,
   "id": "5c0cba72-4ecf-4cd7-a29a-2bcef4a91d96",
   "metadata": {},
   "outputs": [
    {
     "data": {
      "text/plain": [
       "False"
      ]
     },
     "execution_count": 77,
     "metadata": {},
     "output_type": "execute_result"
    }
   ],
   "source": [
    "100 < 20"
   ]
  },
  {
   "cell_type": "code",
   "execution_count": 78,
   "id": "b071ece5-2581-4b87-9139-c68bd2073f2e",
   "metadata": {},
   "outputs": [
    {
     "data": {
      "text/plain": [
       "False"
      ]
     },
     "execution_count": 78,
     "metadata": {},
     "output_type": "execute_result"
    }
   ],
   "source": [
    "10 == 20"
   ]
  },
  {
   "cell_type": "code",
   "execution_count": 80,
   "id": "0cd007a8-ff45-4e35-b422-6372d052817e",
   "metadata": {},
   "outputs": [
    {
     "data": {
      "text/plain": [
       "True"
      ]
     },
     "execution_count": 80,
     "metadata": {},
     "output_type": "execute_result"
    }
   ],
   "source": [
    "' spoo ' < 'rthi'"
   ]
  },
  {
   "cell_type": "code",
   "execution_count": 83,
   "id": "5e07047e-193b-4aa5-8f27-f8630a1097b7",
   "metadata": {},
   "outputs": [
    {
     "data": {
      "text/plain": [
       "True"
      ]
     },
     "execution_count": 83,
     "metadata": {},
     "output_type": "execute_result"
    }
   ],
   "source": [
    "'rthi' < 'spoo'"
   ]
  },
  {
   "cell_type": "code",
   "execution_count": 84,
   "id": "4ae846f6-aa68-4e30-b78b-e0f44a7c0c2e",
   "metadata": {},
   "outputs": [
    {
     "data": {
      "text/plain": [
       "97"
      ]
     },
     "execution_count": 84,
     "metadata": {},
     "output_type": "execute_result"
    }
   ],
   "source": [
    "ord('a')"
   ]
  },
  {
   "cell_type": "code",
   "execution_count": 85,
   "id": "d518ef73-e3ce-44ba-9213-7d6fc4ffd175",
   "metadata": {},
   "outputs": [
    {
     "data": {
      "text/plain": [
       "65"
      ]
     },
     "execution_count": 85,
     "metadata": {},
     "output_type": "execute_result"
    }
   ],
   "source": [
    "ord('A')"
   ]
  },
  {
   "cell_type": "code",
   "execution_count": 86,
   "id": "a237dc9c-64a9-4dff-aa85-20f53ad33dfd",
   "metadata": {},
   "outputs": [
    {
     "data": {
      "text/plain": [
       "'A'"
      ]
     },
     "execution_count": 86,
     "metadata": {},
     "output_type": "execute_result"
    }
   ],
   "source": [
    "chr(65)"
   ]
  },
  {
   "cell_type": "code",
   "execution_count": 87,
   "id": "4d0c6531-0b61-44fa-80d4-cb199ebd28dc",
   "metadata": {},
   "outputs": [
    {
     "data": {
      "text/plain": [
       "'Z'"
      ]
     },
     "execution_count": 87,
     "metadata": {},
     "output_type": "execute_result"
    }
   ],
   "source": [
    "chr(90)"
   ]
  },
  {
   "cell_type": "code",
   "execution_count": 88,
   "id": "c907f16a-e615-4cc5-b674-1a9de02f1e30",
   "metadata": {},
   "outputs": [
    {
     "name": "stdin",
     "output_type": "stream",
     "text": [
      " 10\n"
     ]
    }
   ],
   "source": [
    "a = input()"
   ]
  },
  {
   "cell_type": "code",
   "execution_count": 89,
   "id": "d438310c-ee9a-43ed-a339-f1b904492156",
   "metadata": {},
   "outputs": [
    {
     "name": "stdin",
     "output_type": "stream",
     "text": [
      " 10\n",
      " 20\n"
     ]
    },
    {
     "name": "stdout",
     "output_type": "stream",
     "text": [
      "1020\n"
     ]
    }
   ],
   "source": [
    "a = input()\n",
    "b = input()\n",
    "c = a+b\n",
    "print(c)"
   ]
  },
  {
   "cell_type": "code",
   "execution_count": 90,
   "id": "2bf0e719-fc28-40e5-9c6d-16d51b04a06f",
   "metadata": {},
   "outputs": [
    {
     "name": "stdin",
     "output_type": "stream",
     "text": [
      " 10\n",
      " 20\n"
     ]
    },
    {
     "name": "stdout",
     "output_type": "stream",
     "text": [
      "30\n"
     ]
    }
   ],
   "source": [
    "a = int(input())\n",
    "b = int(input())\n",
    "c = a+b\n",
    "print (c)"
   ]
  },
  {
   "cell_type": "code",
   "execution_count": 91,
   "id": "bd7d8a6d-9d9a-453b-bac7-aa8e1e6b14dc",
   "metadata": {},
   "outputs": [],
   "source": [
    "s='pankaj' \n",
    "t='pankaj'"
   ]
  },
  {
   "cell_type": "code",
   "execution_count": 92,
   "id": "d594194d-9450-449a-ae9d-53b35b4a77d1",
   "metadata": {},
   "outputs": [
    {
     "data": {
      "text/plain": [
       "True"
      ]
     },
     "execution_count": 92,
     "metadata": {},
     "output_type": "execute_result"
    }
   ],
   "source": [
    "s==t"
   ]
  },
  {
   "cell_type": "code",
   "execution_count": 93,
   "id": "d6577737-95cc-4160-b410-2b3840978516",
   "metadata": {},
   "outputs": [
    {
     "data": {
      "text/plain": [
       "True"
      ]
     },
     "execution_count": 93,
     "metadata": {},
     "output_type": "execute_result"
    }
   ],
   "source": [
    "s is t"
   ]
  },
  {
   "cell_type": "code",
   "execution_count": 94,
   "id": "466b9c43-68cb-4e85-9441-f24550270ba5",
   "metadata": {},
   "outputs": [
    {
     "name": "stdout",
     "output_type": "stream",
     "text": [
      "11-6-16!"
     ]
    }
   ],
   "source": [
    "x =6\n",
    "y=11\n",
    "z=16\n",
    "print (y,x,z,sep=\"-\",end=\"!\")"
   ]
  },
  {
   "cell_type": "code",
   "execution_count": 95,
   "id": "419b5ca4-f06c-4d75-bae0-70e02e63103c",
   "metadata": {},
   "outputs": [
    {
     "data": {
      "text/plain": [
       "7"
      ]
     },
     "execution_count": 95,
     "metadata": {},
     "output_type": "execute_result"
    }
   ],
   "source": [
    "5+10*2//3-4"
   ]
  },
  {
   "cell_type": "code",
   "execution_count": 97,
   "id": "7003d65f-f80d-429f-b449-d5755cdf2dfc",
   "metadata": {},
   "outputs": [
    {
     "name": "stdout",
     "output_type": "stream",
     "text": [
      "True\n"
     ]
    }
   ],
   "source": [
    "x=3\n",
    "y=5\n",
    "z=not((x+y)==(x*y)and(x%y)==(y//x))\n",
    "print(z)"
   ]
  },
  {
   "cell_type": "code",
   "execution_count": null,
   "id": "414b0f57-c43e-42f7-b401-276702016819",
   "metadata": {},
   "outputs": [],
   "source": []
  }
 ],
 "metadata": {
  "kernelspec": {
   "display_name": "Python 3 (ipykernel)",
   "language": "python",
   "name": "python3"
  },
  "language_info": {
   "codemirror_mode": {
    "name": "ipython",
    "version": 3
   },
   "file_extension": ".py",
   "mimetype": "text/x-python",
   "name": "python",
   "nbconvert_exporter": "python",
   "pygments_lexer": "ipython3",
   "version": "3.10.8"
  }
 },
 "nbformat": 4,
 "nbformat_minor": 5
}
